{
 "cells": [
  {
   "cell_type": "code",
   "execution_count": 1,
   "metadata": {},
   "outputs": [],
   "source": [
    "import pandas as pd"
   ]
  },
  {
   "cell_type": "code",
   "execution_count": 2,
   "metadata": {},
   "outputs": [
    {
     "data": {
      "text/plain": [
       "[[{'text': 'two'}, {'ROOM': 'bedroom'}],\n",
       " [{'text': 'one'}, {'ROOM': 'washroom'}],\n",
       " [{'text': 'three'}, {'ROOM': 'bedroom'}],\n",
       " [{'text': 'four'}, {'ROOM': 'washroom'}]]"
      ]
     },
     "execution_count": 2,
     "metadata": {},
     "output_type": "execute_result"
    }
   ],
   "source": [
    "source = [[{\"text\": \"two\"}, {\"ROOM\": \"bedroom\"}],\n",
    "          [{\"text\": \"one\"}, {\"ROOM\": \"washroom\"}],\n",
    "          [{\"text\": \"three\"}, {\"ROOM\": \"bedroom\"}],\n",
    "          [{\"text\": \"four\"}, {\"ROOM\": \"washroom\"}]]\n",
    "\n",
    "source"
   ]
  },
  {
   "cell_type": "code",
   "execution_count": 3,
   "metadata": {},
   "outputs": [
    {
     "name": "stdout",
     "output_type": "stream",
     "text": [
      "['two', 'one', 'three', 'four']\n",
      "['bedroom', 'washroom']\n"
     ]
    }
   ],
   "source": [
    "# Provide data and label to be extracted\n",
    "def extract_values1(data, label):\n",
    "    unique_val = []\n",
    "    for list_ in data:\n",
    "        for dict_ in list_:\n",
    "            if label in dict_:\n",
    "                if dict_[label] not in unique_val:  # get unique vals only\n",
    "                    unique_val.append(dict_[label])\n",
    "\n",
    "    return unique_val\n",
    "\n",
    "# test for \"text\"\n",
    "print(extract_values1(source, \"text\"))\n",
    "# test for \"ROOM\"\n",
    "print(extract_values1(source, \"ROOM\"))"
   ]
  },
  {
   "cell_type": "code",
   "execution_count": 4,
   "metadata": {},
   "outputs": [
    {
     "data": {
      "text/plain": [
       "{'text': ['two', 'one', 'three', 'four'], 'ROOM': ['bedroom', 'washroom']}"
      ]
     },
     "execution_count": 4,
     "metadata": {},
     "output_type": "execute_result"
    }
   ],
   "source": [
    "# Extract unique values for each dict in the list\n",
    "def extract_values2(data):\n",
    "    keys = [list(d.keys())[0] for l in data for d in l]  # get keys from the passed dict\n",
    "    unique_val = {}  \n",
    "    for list_ in data:\n",
    "        for key, dict_ in zip(keys, list_):\n",
    "            unique_val.setdefault(key, [])\n",
    "            if dict_[key] not in unique_val[key]:  # store unique values in a list\n",
    "                unique_val[key].append(dict_[key])\n",
    "\n",
    "    return unique_val\n",
    "    \n",
    "# test\n",
    "extract_values2(source)"
   ]
  },
  {
   "cell_type": "code",
   "execution_count": null,
   "metadata": {},
   "outputs": [],
   "source": []
  },
  {
   "cell_type": "code",
   "execution_count": null,
   "metadata": {},
   "outputs": [],
   "source": [
    "# Data Science Group Prob\n",
    "# words with exactly 1 vowel\n",
    "# words with exactly 2 vowels\n",
    "# words with exactly >2 vowels\n",
    "# words with exactly 5 chars\n",
    "# words ending in 'ing'\n",
    "\n",
    "import string\n",
    "\n",
    "\n",
    "def parse(sentence):\n",
    "    words = sentence.split()\n",
    "\n",
    "    vowels = \"aeiou\"\n",
    "    puncts = string.punctuation\n",
    "\n",
    "    counts = {}\n",
    "    for word in words:\n",
    "        # Clean data\n",
    "        word = word.lower().replace(\".\", \"\")\n",
    "\n",
    "        # Count number of vowels per word\n",
    "        v_count = 0\n",
    "        v_char = \"\"\n",
    "        for char in word:\n",
    "            if char in vowels:\n",
    "                v_char += char\n",
    "                v_count += 1\n",
    "\n",
    "            # Clean data\n",
    "            elif char in puncts:\n",
    "                word = word.replace(char, \"\")\n",
    "\n",
    "        counts.setdefault(v_count, [])\n",
    "        counts[v_count].append(v_char)\n",
    "\n",
    "        # Check for words ending in 'ing'\n",
    "        if word.endswith('ing'):\n",
    "            counts['ing'] = counts.get('ing', 0) + 1\n",
    "\n",
    "    # Prettify return dict\n",
    "    more_vowels = 0  # counter for words with >2 vowels\n",
    "\n",
    "    ret = {}\n",
    "    for k, v in counts.items():\n",
    "        if k == \"ing\":\n",
    "            ret.setdefault(f'ending in {k}', v)\n",
    "\n",
    "        else:\n",
    "            k = int(k)\n",
    "\n",
    "            if k == 1:\n",
    "                ret.setdefault(f\"{k} vowel\", len(v))\n",
    "\n",
    "            elif k == 2:\n",
    "                ret.setdefault(f\"{k} vowels\", len(v))\n",
    "\n",
    "            else:\n",
    "                more_vowels += len(v)\n",
    "                ret[\"> 2 vowels\"] = ret.get(\"> 2 vowels\", more_vowels)\n",
    "\n",
    "    return ret\n",
    "\n",
    "\n",
    "# Test\n",
    "text = \"I love Python programming, machine learning, and web scraping.\"\n",
    "print(\"Expected output: {'1 vowel': 4, '2 vowels': 2, '> 2 vowels': 3, 'ending in ing': 3}\")\n",
    "print(\"Actual output:\", parse(text))"
   ]
  }
 ],
 "metadata": {
  "kernelspec": {
   "display_name": "ml",
   "language": "python",
   "name": "ml"
  },
  "language_info": {
   "codemirror_mode": {
    "name": "ipython",
    "version": 3
   },
   "file_extension": ".py",
   "mimetype": "text/x-python",
   "name": "python",
   "nbconvert_exporter": "python",
   "pygments_lexer": "ipython3",
   "version": "3.7.6"
  },
  "toc": {
   "base_numbering": 1,
   "nav_menu": {},
   "number_sections": true,
   "sideBar": true,
   "skip_h1_title": false,
   "title_cell": "Table of Contents",
   "title_sidebar": "Contents",
   "toc_cell": false,
   "toc_position": {},
   "toc_section_display": true,
   "toc_window_display": false
  },
  "varInspector": {
   "cols": {
    "lenName": 16,
    "lenType": 16,
    "lenVar": 40
   },
   "kernels_config": {
    "python": {
     "delete_cmd_postfix": "",
     "delete_cmd_prefix": "del ",
     "library": "var_list.py",
     "varRefreshCmd": "print(var_dic_list())"
    },
    "r": {
     "delete_cmd_postfix": ") ",
     "delete_cmd_prefix": "rm(",
     "library": "var_list.r",
     "varRefreshCmd": "cat(var_dic_list()) "
    }
   },
   "types_to_exclude": [
    "module",
    "function",
    "builtin_function_or_method",
    "instance",
    "_Feature"
   ],
   "window_display": false
  }
 },
 "nbformat": 4,
 "nbformat_minor": 4
}
